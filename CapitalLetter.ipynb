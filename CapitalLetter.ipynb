{
 "cells": [
  {
   "cell_type": "code",
   "execution_count": 1,
   "metadata": {},
   "outputs": [
    {
     "name": "stderr",
     "output_type": "stream",
     "text": [
      "Using TensorFlow backend.\n"
     ]
    }
   ],
   "source": [
    "from keras.models import Sequential\n",
    "from keras.layers import Dense\n",
    "from keras.layers import Dropout\n",
    "from keras.layers import Flatten\n",
    "from keras.layers.convolutional import Conv2D\n",
    "from keras.layers.convolutional import MaxPooling2D\n",
    "from keras import backend as K\n",
    "from keras.utils import np_utils\n",
    "from sklearn.model_selection import train_test_split\n",
    "from sklearn.preprocessing import MinMaxScaler\n",
    "import numpy as np\n",
    "import pandas as pd\n",
    "import cv2 as cv\n",
    "from tensorflow.keras.callbacks import EarlyStopping"
   ]
  },
  {
   "cell_type": "code",
   "execution_count": 2,
   "metadata": {},
   "outputs": [],
   "source": [
    "data = pd.read_csv(\"A-Z_ThinkTac_aplha.csv\")"
   ]
  },
  {
   "cell_type": "code",
   "execution_count": 3,
   "metadata": {},
   "outputs": [
    {
     "data": {
      "text/html": [
       "<div>\n",
       "<style scoped>\n",
       "    .dataframe tbody tr th:only-of-type {\n",
       "        vertical-align: middle;\n",
       "    }\n",
       "\n",
       "    .dataframe tbody tr th {\n",
       "        vertical-align: top;\n",
       "    }\n",
       "\n",
       "    .dataframe thead th {\n",
       "        text-align: right;\n",
       "    }\n",
       "</style>\n",
       "<table border=\"1\" class=\"dataframe\">\n",
       "  <thead>\n",
       "    <tr style=\"text-align: right;\">\n",
       "      <th></th>\n",
       "      <th>label</th>\n",
       "      <th>0.0</th>\n",
       "      <th>0.01</th>\n",
       "      <th>0.02</th>\n",
       "      <th>0.03</th>\n",
       "      <th>0.04</th>\n",
       "      <th>0.05</th>\n",
       "      <th>0.06</th>\n",
       "      <th>0.07</th>\n",
       "      <th>0.08</th>\n",
       "      <th>...</th>\n",
       "      <th>7.74</th>\n",
       "      <th>7.75</th>\n",
       "      <th>7.76</th>\n",
       "      <th>7.77</th>\n",
       "      <th>7.78</th>\n",
       "      <th>7.79</th>\n",
       "      <th>7.8</th>\n",
       "      <th>7.81</th>\n",
       "      <th>7.82</th>\n",
       "      <th>7.83</th>\n",
       "    </tr>\n",
       "  </thead>\n",
       "  <tbody>\n",
       "    <tr>\n",
       "      <th>2195</th>\n",
       "      <td>25.0</td>\n",
       "      <td>0.980392</td>\n",
       "      <td>0.984314</td>\n",
       "      <td>0.992157</td>\n",
       "      <td>0.992157</td>\n",
       "      <td>0.996078</td>\n",
       "      <td>0.996078</td>\n",
       "      <td>1.000000</td>\n",
       "      <td>0.996078</td>\n",
       "      <td>0.996078</td>\n",
       "      <td>...</td>\n",
       "      <td>0.984314</td>\n",
       "      <td>0.972549</td>\n",
       "      <td>0.980392</td>\n",
       "      <td>0.992157</td>\n",
       "      <td>0.992157</td>\n",
       "      <td>0.996078</td>\n",
       "      <td>0.996078</td>\n",
       "      <td>0.996078</td>\n",
       "      <td>0.996078</td>\n",
       "      <td>0.996078</td>\n",
       "    </tr>\n",
       "    <tr>\n",
       "      <th>2196</th>\n",
       "      <td>25.0</td>\n",
       "      <td>0.980392</td>\n",
       "      <td>0.968627</td>\n",
       "      <td>0.949020</td>\n",
       "      <td>0.921569</td>\n",
       "      <td>0.898039</td>\n",
       "      <td>0.874510</td>\n",
       "      <td>0.839216</td>\n",
       "      <td>0.796078</td>\n",
       "      <td>0.745098</td>\n",
       "      <td>...</td>\n",
       "      <td>0.984314</td>\n",
       "      <td>0.996078</td>\n",
       "      <td>1.000000</td>\n",
       "      <td>1.000000</td>\n",
       "      <td>1.000000</td>\n",
       "      <td>0.996078</td>\n",
       "      <td>0.996078</td>\n",
       "      <td>0.996078</td>\n",
       "      <td>0.996078</td>\n",
       "      <td>0.996078</td>\n",
       "    </tr>\n",
       "    <tr>\n",
       "      <th>2197</th>\n",
       "      <td>25.0</td>\n",
       "      <td>0.996078</td>\n",
       "      <td>0.996078</td>\n",
       "      <td>0.996078</td>\n",
       "      <td>0.992157</td>\n",
       "      <td>0.996078</td>\n",
       "      <td>0.996078</td>\n",
       "      <td>0.996078</td>\n",
       "      <td>0.988235</td>\n",
       "      <td>0.988235</td>\n",
       "      <td>...</td>\n",
       "      <td>0.992157</td>\n",
       "      <td>0.992157</td>\n",
       "      <td>0.988235</td>\n",
       "      <td>0.988235</td>\n",
       "      <td>0.992157</td>\n",
       "      <td>0.996078</td>\n",
       "      <td>1.000000</td>\n",
       "      <td>0.996078</td>\n",
       "      <td>0.992157</td>\n",
       "      <td>0.992157</td>\n",
       "    </tr>\n",
       "    <tr>\n",
       "      <th>2198</th>\n",
       "      <td>25.0</td>\n",
       "      <td>0.678431</td>\n",
       "      <td>0.545098</td>\n",
       "      <td>0.286275</td>\n",
       "      <td>0.317647</td>\n",
       "      <td>0.466667</td>\n",
       "      <td>0.584314</td>\n",
       "      <td>0.678431</td>\n",
       "      <td>0.749020</td>\n",
       "      <td>0.815686</td>\n",
       "      <td>...</td>\n",
       "      <td>0.062745</td>\n",
       "      <td>0.070588</td>\n",
       "      <td>0.274510</td>\n",
       "      <td>0.509804</td>\n",
       "      <td>0.733333</td>\n",
       "      <td>0.921569</td>\n",
       "      <td>0.972549</td>\n",
       "      <td>1.000000</td>\n",
       "      <td>0.996078</td>\n",
       "      <td>0.996078</td>\n",
       "    </tr>\n",
       "    <tr>\n",
       "      <th>2199</th>\n",
       "      <td>25.0</td>\n",
       "      <td>0.984314</td>\n",
       "      <td>0.988235</td>\n",
       "      <td>0.996078</td>\n",
       "      <td>0.992157</td>\n",
       "      <td>0.992157</td>\n",
       "      <td>0.992157</td>\n",
       "      <td>0.996078</td>\n",
       "      <td>0.992157</td>\n",
       "      <td>0.992157</td>\n",
       "      <td>...</td>\n",
       "      <td>0.113725</td>\n",
       "      <td>0.090196</td>\n",
       "      <td>0.105882</td>\n",
       "      <td>0.160784</td>\n",
       "      <td>0.607843</td>\n",
       "      <td>0.980392</td>\n",
       "      <td>0.996078</td>\n",
       "      <td>0.996078</td>\n",
       "      <td>0.992157</td>\n",
       "      <td>0.988235</td>\n",
       "    </tr>\n",
       "  </tbody>\n",
       "</table>\n",
       "<p>5 rows × 785 columns</p>\n",
       "</div>"
      ],
      "text/plain": [
       "      label       0.0      0.01      0.02      0.03      0.04      0.05  \\\n",
       "2195   25.0  0.980392  0.984314  0.992157  0.992157  0.996078  0.996078   \n",
       "2196   25.0  0.980392  0.968627  0.949020  0.921569  0.898039  0.874510   \n",
       "2197   25.0  0.996078  0.996078  0.996078  0.992157  0.996078  0.996078   \n",
       "2198   25.0  0.678431  0.545098  0.286275  0.317647  0.466667  0.584314   \n",
       "2199   25.0  0.984314  0.988235  0.996078  0.992157  0.992157  0.992157   \n",
       "\n",
       "          0.06      0.07      0.08  ...      7.74      7.75      7.76  \\\n",
       "2195  1.000000  0.996078  0.996078  ...  0.984314  0.972549  0.980392   \n",
       "2196  0.839216  0.796078  0.745098  ...  0.984314  0.996078  1.000000   \n",
       "2197  0.996078  0.988235  0.988235  ...  0.992157  0.992157  0.988235   \n",
       "2198  0.678431  0.749020  0.815686  ...  0.062745  0.070588  0.274510   \n",
       "2199  0.996078  0.992157  0.992157  ...  0.113725  0.090196  0.105882   \n",
       "\n",
       "          7.77      7.78      7.79       7.8      7.81      7.82      7.83  \n",
       "2195  0.992157  0.992157  0.996078  0.996078  0.996078  0.996078  0.996078  \n",
       "2196  1.000000  1.000000  0.996078  0.996078  0.996078  0.996078  0.996078  \n",
       "2197  0.988235  0.992157  0.996078  1.000000  0.996078  0.992157  0.992157  \n",
       "2198  0.509804  0.733333  0.921569  0.972549  1.000000  0.996078  0.996078  \n",
       "2199  0.160784  0.607843  0.980392  0.996078  0.996078  0.992157  0.988235  \n",
       "\n",
       "[5 rows x 785 columns]"
      ]
     },
     "execution_count": 3,
     "metadata": {},
     "output_type": "execute_result"
    }
   ],
   "source": [
    "data.tail()"
   ]
  },
  {
   "cell_type": "code",
   "execution_count": null,
   "metadata": {},
   "outputs": [],
   "source": [
    "big_letters = list(map(chr, range(ord('A'), ord('Z')+1)))"
   ]
  },
  {
   "cell_type": "code",
   "execution_count": 4,
   "metadata": {},
   "outputs": [
    {
     "data": {
      "text/plain": [
       "(2200, 785)"
      ]
     },
     "execution_count": 4,
     "metadata": {},
     "output_type": "execute_result"
    }
   ],
   "source": [
    "data.shape"
   ]
  },
  {
   "cell_type": "code",
   "execution_count": 5,
   "metadata": {},
   "outputs": [
    {
     "data": {
      "text/html": [
       "<div>\n",
       "<style scoped>\n",
       "    .dataframe tbody tr th:only-of-type {\n",
       "        vertical-align: middle;\n",
       "    }\n",
       "\n",
       "    .dataframe tbody tr th {\n",
       "        vertical-align: top;\n",
       "    }\n",
       "\n",
       "    .dataframe thead th {\n",
       "        text-align: right;\n",
       "    }\n",
       "</style>\n",
       "<table border=\"1\" class=\"dataframe\">\n",
       "  <thead>\n",
       "    <tr style=\"text-align: right;\">\n",
       "      <th></th>\n",
       "      <th>label</th>\n",
       "      <th>0.0</th>\n",
       "      <th>0.01</th>\n",
       "      <th>0.02</th>\n",
       "      <th>0.03</th>\n",
       "      <th>0.04</th>\n",
       "      <th>0.05</th>\n",
       "      <th>0.06</th>\n",
       "      <th>0.07</th>\n",
       "      <th>0.08</th>\n",
       "      <th>...</th>\n",
       "      <th>7.74</th>\n",
       "      <th>7.75</th>\n",
       "      <th>7.76</th>\n",
       "      <th>7.77</th>\n",
       "      <th>7.78</th>\n",
       "      <th>7.79</th>\n",
       "      <th>7.8</th>\n",
       "      <th>7.81</th>\n",
       "      <th>7.82</th>\n",
       "      <th>7.83</th>\n",
       "    </tr>\n",
       "  </thead>\n",
       "  <tbody>\n",
       "    <tr>\n",
       "      <th>0</th>\n",
       "      <td>0.0</td>\n",
       "      <td>1.000000</td>\n",
       "      <td>0.996078</td>\n",
       "      <td>0.996078</td>\n",
       "      <td>0.992157</td>\n",
       "      <td>0.992157</td>\n",
       "      <td>0.992157</td>\n",
       "      <td>0.992157</td>\n",
       "      <td>0.992157</td>\n",
       "      <td>0.992157</td>\n",
       "      <td>...</td>\n",
       "      <td>0.984314</td>\n",
       "      <td>0.988235</td>\n",
       "      <td>0.976471</td>\n",
       "      <td>0.968627</td>\n",
       "      <td>0.839216</td>\n",
       "      <td>0.647059</td>\n",
       "      <td>0.337255</td>\n",
       "      <td>0.047059</td>\n",
       "      <td>0.066667</td>\n",
       "      <td>0.082353</td>\n",
       "    </tr>\n",
       "    <tr>\n",
       "      <th>1</th>\n",
       "      <td>0.0</td>\n",
       "      <td>0.992157</td>\n",
       "      <td>0.992157</td>\n",
       "      <td>0.996078</td>\n",
       "      <td>0.996078</td>\n",
       "      <td>0.996078</td>\n",
       "      <td>0.996078</td>\n",
       "      <td>0.996078</td>\n",
       "      <td>0.996078</td>\n",
       "      <td>0.988235</td>\n",
       "      <td>...</td>\n",
       "      <td>0.996078</td>\n",
       "      <td>0.992157</td>\n",
       "      <td>0.996078</td>\n",
       "      <td>0.992157</td>\n",
       "      <td>0.996078</td>\n",
       "      <td>0.996078</td>\n",
       "      <td>0.992157</td>\n",
       "      <td>1.000000</td>\n",
       "      <td>1.000000</td>\n",
       "      <td>1.000000</td>\n",
       "    </tr>\n",
       "    <tr>\n",
       "      <th>2</th>\n",
       "      <td>0.0</td>\n",
       "      <td>0.988235</td>\n",
       "      <td>0.992157</td>\n",
       "      <td>0.996078</td>\n",
       "      <td>0.992157</td>\n",
       "      <td>0.984314</td>\n",
       "      <td>0.980392</td>\n",
       "      <td>0.980392</td>\n",
       "      <td>0.796078</td>\n",
       "      <td>0.431373</td>\n",
       "      <td>...</td>\n",
       "      <td>0.972549</td>\n",
       "      <td>0.980392</td>\n",
       "      <td>0.988235</td>\n",
       "      <td>0.988235</td>\n",
       "      <td>0.996078</td>\n",
       "      <td>0.996078</td>\n",
       "      <td>0.992157</td>\n",
       "      <td>0.984314</td>\n",
       "      <td>0.980392</td>\n",
       "      <td>0.976471</td>\n",
       "    </tr>\n",
       "    <tr>\n",
       "      <th>3</th>\n",
       "      <td>0.0</td>\n",
       "      <td>0.996078</td>\n",
       "      <td>0.996078</td>\n",
       "      <td>0.996078</td>\n",
       "      <td>0.996078</td>\n",
       "      <td>0.996078</td>\n",
       "      <td>0.996078</td>\n",
       "      <td>0.992157</td>\n",
       "      <td>0.992157</td>\n",
       "      <td>0.992157</td>\n",
       "      <td>...</td>\n",
       "      <td>0.886275</td>\n",
       "      <td>0.458824</td>\n",
       "      <td>0.050980</td>\n",
       "      <td>0.427451</td>\n",
       "      <td>0.788235</td>\n",
       "      <td>0.882353</td>\n",
       "      <td>0.941176</td>\n",
       "      <td>0.964706</td>\n",
       "      <td>0.968627</td>\n",
       "      <td>0.968627</td>\n",
       "    </tr>\n",
       "    <tr>\n",
       "      <th>4</th>\n",
       "      <td>0.0</td>\n",
       "      <td>0.996078</td>\n",
       "      <td>0.996078</td>\n",
       "      <td>0.996078</td>\n",
       "      <td>0.996078</td>\n",
       "      <td>0.996078</td>\n",
       "      <td>0.996078</td>\n",
       "      <td>0.996078</td>\n",
       "      <td>0.996078</td>\n",
       "      <td>0.996078</td>\n",
       "      <td>...</td>\n",
       "      <td>0.988235</td>\n",
       "      <td>0.996078</td>\n",
       "      <td>1.000000</td>\n",
       "      <td>0.992157</td>\n",
       "      <td>0.984314</td>\n",
       "      <td>0.976471</td>\n",
       "      <td>0.968627</td>\n",
       "      <td>0.972549</td>\n",
       "      <td>0.976471</td>\n",
       "      <td>0.980392</td>\n",
       "    </tr>\n",
       "  </tbody>\n",
       "</table>\n",
       "<p>5 rows × 785 columns</p>\n",
       "</div>"
      ],
      "text/plain": [
       "   label       0.0      0.01      0.02      0.03      0.04      0.05  \\\n",
       "0    0.0  1.000000  0.996078  0.996078  0.992157  0.992157  0.992157   \n",
       "1    0.0  0.992157  0.992157  0.996078  0.996078  0.996078  0.996078   \n",
       "2    0.0  0.988235  0.992157  0.996078  0.992157  0.984314  0.980392   \n",
       "3    0.0  0.996078  0.996078  0.996078  0.996078  0.996078  0.996078   \n",
       "4    0.0  0.996078  0.996078  0.996078  0.996078  0.996078  0.996078   \n",
       "\n",
       "       0.06      0.07      0.08  ...      7.74      7.75      7.76      7.77  \\\n",
       "0  0.992157  0.992157  0.992157  ...  0.984314  0.988235  0.976471  0.968627   \n",
       "1  0.996078  0.996078  0.988235  ...  0.996078  0.992157  0.996078  0.992157   \n",
       "2  0.980392  0.796078  0.431373  ...  0.972549  0.980392  0.988235  0.988235   \n",
       "3  0.992157  0.992157  0.992157  ...  0.886275  0.458824  0.050980  0.427451   \n",
       "4  0.996078  0.996078  0.996078  ...  0.988235  0.996078  1.000000  0.992157   \n",
       "\n",
       "       7.78      7.79       7.8      7.81      7.82      7.83  \n",
       "0  0.839216  0.647059  0.337255  0.047059  0.066667  0.082353  \n",
       "1  0.996078  0.996078  0.992157  1.000000  1.000000  1.000000  \n",
       "2  0.996078  0.996078  0.992157  0.984314  0.980392  0.976471  \n",
       "3  0.788235  0.882353  0.941176  0.964706  0.968627  0.968627  \n",
       "4  0.984314  0.976471  0.968627  0.972549  0.976471  0.980392  \n",
       "\n",
       "[5 rows x 785 columns]"
      ]
     },
     "execution_count": 5,
     "metadata": {},
     "output_type": "execute_result"
    }
   ],
   "source": [
    "data.head()"
   ]
  },
  {
   "cell_type": "code",
   "execution_count": 6,
   "metadata": {},
   "outputs": [],
   "source": [
    "data.rename(columns={'0':'label'}, inplace=True)"
   ]
  },
  {
   "cell_type": "code",
   "execution_count": 7,
   "metadata": {},
   "outputs": [
    {
     "data": {
      "text/plain": [
       "<pandas.core.indexing._iLocIndexer at 0x2e021e600e8>"
      ]
     },
     "execution_count": 7,
     "metadata": {},
     "output_type": "execute_result"
    }
   ],
   "source": [
    "img = data.iloc(1)\n",
    "img"
   ]
  },
  {
   "cell_type": "code",
   "execution_count": null,
   "metadata": {},
   "outputs": [],
   "source": []
  },
  {
   "cell_type": "code",
   "execution_count": null,
   "metadata": {},
   "outputs": [],
   "source": []
  },
  {
   "cell_type": "code",
   "execution_count": 8,
   "metadata": {},
   "outputs": [
    {
     "name": "stdout",
     "output_type": "stream",
     "text": [
      "   label  0.0      0.01      0.02      0.03      0.04      0.05      0.06  \\\n",
      "0    0.0  1.0  0.996078  0.996078  0.992157  0.992157  0.992157  0.992157   \n",
      "\n",
      "       0.07      0.08  ...      7.74      7.75      7.76      7.77      7.78  \\\n",
      "0  0.992157  0.992157  ...  0.984314  0.988235  0.976471  0.968627  0.839216   \n",
      "\n",
      "       7.79       7.8      7.81      7.82      7.83  \n",
      "0  0.647059  0.337255  0.047059  0.066667  0.082353  \n",
      "\n",
      "[1 rows x 785 columns]\n"
     ]
    }
   ],
   "source": [
    "print(data.head(1))"
   ]
  },
  {
   "cell_type": "code",
   "execution_count": 9,
   "metadata": {},
   "outputs": [],
   "source": [
    "X , y = data.drop('label',axis=1), data['label']"
   ]
  },
  {
   "cell_type": "code",
   "execution_count": 10,
   "metadata": {},
   "outputs": [
    {
     "data": {
      "text/html": [
       "<div>\n",
       "<style scoped>\n",
       "    .dataframe tbody tr th:only-of-type {\n",
       "        vertical-align: middle;\n",
       "    }\n",
       "\n",
       "    .dataframe tbody tr th {\n",
       "        vertical-align: top;\n",
       "    }\n",
       "\n",
       "    .dataframe thead th {\n",
       "        text-align: right;\n",
       "    }\n",
       "</style>\n",
       "<table border=\"1\" class=\"dataframe\">\n",
       "  <thead>\n",
       "    <tr style=\"text-align: right;\">\n",
       "      <th></th>\n",
       "      <th>count</th>\n",
       "      <th>mean</th>\n",
       "      <th>std</th>\n",
       "      <th>min</th>\n",
       "      <th>25%</th>\n",
       "      <th>50%</th>\n",
       "      <th>75%</th>\n",
       "      <th>max</th>\n",
       "    </tr>\n",
       "  </thead>\n",
       "  <tbody>\n",
       "    <tr>\n",
       "      <th>label</th>\n",
       "      <td>2200.0</td>\n",
       "      <td>7.547727</td>\n",
       "      <td>6.793283</td>\n",
       "      <td>0.000000</td>\n",
       "      <td>1.000000</td>\n",
       "      <td>3.000000</td>\n",
       "      <td>14.000000</td>\n",
       "      <td>25.0</td>\n",
       "    </tr>\n",
       "    <tr>\n",
       "      <th>0.0</th>\n",
       "      <td>2200.0</td>\n",
       "      <td>0.977499</td>\n",
       "      <td>0.103927</td>\n",
       "      <td>0.011765</td>\n",
       "      <td>0.992157</td>\n",
       "      <td>0.996078</td>\n",
       "      <td>0.996078</td>\n",
       "      <td>1.0</td>\n",
       "    </tr>\n",
       "    <tr>\n",
       "      <th>0.01</th>\n",
       "      <td>2200.0</td>\n",
       "      <td>0.974296</td>\n",
       "      <td>0.104731</td>\n",
       "      <td>0.007843</td>\n",
       "      <td>0.992157</td>\n",
       "      <td>0.992157</td>\n",
       "      <td>0.996078</td>\n",
       "      <td>1.0</td>\n",
       "    </tr>\n",
       "    <tr>\n",
       "      <th>0.02</th>\n",
       "      <td>2200.0</td>\n",
       "      <td>0.966070</td>\n",
       "      <td>0.122353</td>\n",
       "      <td>0.011765</td>\n",
       "      <td>0.988235</td>\n",
       "      <td>0.992157</td>\n",
       "      <td>0.996078</td>\n",
       "      <td>1.0</td>\n",
       "    </tr>\n",
       "    <tr>\n",
       "      <th>0.03</th>\n",
       "      <td>2200.0</td>\n",
       "      <td>0.956164</td>\n",
       "      <td>0.146599</td>\n",
       "      <td>0.015686</td>\n",
       "      <td>0.988235</td>\n",
       "      <td>0.992157</td>\n",
       "      <td>0.996078</td>\n",
       "      <td>1.0</td>\n",
       "    </tr>\n",
       "    <tr>\n",
       "      <th>...</th>\n",
       "      <td>...</td>\n",
       "      <td>...</td>\n",
       "      <td>...</td>\n",
       "      <td>...</td>\n",
       "      <td>...</td>\n",
       "      <td>...</td>\n",
       "      <td>...</td>\n",
       "      <td>...</td>\n",
       "    </tr>\n",
       "    <tr>\n",
       "      <th>7.79</th>\n",
       "      <td>2200.0</td>\n",
       "      <td>0.926428</td>\n",
       "      <td>0.191449</td>\n",
       "      <td>0.050980</td>\n",
       "      <td>0.984314</td>\n",
       "      <td>0.992157</td>\n",
       "      <td>0.996078</td>\n",
       "      <td>1.0</td>\n",
       "    </tr>\n",
       "    <tr>\n",
       "      <th>7.8</th>\n",
       "      <td>2200.0</td>\n",
       "      <td>0.943182</td>\n",
       "      <td>0.163014</td>\n",
       "      <td>0.054902</td>\n",
       "      <td>0.988235</td>\n",
       "      <td>0.992157</td>\n",
       "      <td>0.996078</td>\n",
       "      <td>1.0</td>\n",
       "    </tr>\n",
       "    <tr>\n",
       "      <th>7.81</th>\n",
       "      <td>2200.0</td>\n",
       "      <td>0.957615</td>\n",
       "      <td>0.141521</td>\n",
       "      <td>0.031373</td>\n",
       "      <td>0.988235</td>\n",
       "      <td>0.996078</td>\n",
       "      <td>0.996078</td>\n",
       "      <td>1.0</td>\n",
       "    </tr>\n",
       "    <tr>\n",
       "      <th>7.82</th>\n",
       "      <td>2200.0</td>\n",
       "      <td>0.966964</td>\n",
       "      <td>0.121195</td>\n",
       "      <td>0.047059</td>\n",
       "      <td>0.992157</td>\n",
       "      <td>0.996078</td>\n",
       "      <td>0.996078</td>\n",
       "      <td>1.0</td>\n",
       "    </tr>\n",
       "    <tr>\n",
       "      <th>7.83</th>\n",
       "      <td>2200.0</td>\n",
       "      <td>0.971139</td>\n",
       "      <td>0.125414</td>\n",
       "      <td>0.027451</td>\n",
       "      <td>0.992157</td>\n",
       "      <td>0.996078</td>\n",
       "      <td>0.996078</td>\n",
       "      <td>1.0</td>\n",
       "    </tr>\n",
       "  </tbody>\n",
       "</table>\n",
       "<p>785 rows × 8 columns</p>\n",
       "</div>"
      ],
      "text/plain": [
       "        count      mean       std       min       25%       50%        75%  \\\n",
       "label  2200.0  7.547727  6.793283  0.000000  1.000000  3.000000  14.000000   \n",
       "0.0    2200.0  0.977499  0.103927  0.011765  0.992157  0.996078   0.996078   \n",
       "0.01   2200.0  0.974296  0.104731  0.007843  0.992157  0.992157   0.996078   \n",
       "0.02   2200.0  0.966070  0.122353  0.011765  0.988235  0.992157   0.996078   \n",
       "0.03   2200.0  0.956164  0.146599  0.015686  0.988235  0.992157   0.996078   \n",
       "...       ...       ...       ...       ...       ...       ...        ...   \n",
       "7.79   2200.0  0.926428  0.191449  0.050980  0.984314  0.992157   0.996078   \n",
       "7.8    2200.0  0.943182  0.163014  0.054902  0.988235  0.992157   0.996078   \n",
       "7.81   2200.0  0.957615  0.141521  0.031373  0.988235  0.996078   0.996078   \n",
       "7.82   2200.0  0.966964  0.121195  0.047059  0.992157  0.996078   0.996078   \n",
       "7.83   2200.0  0.971139  0.125414  0.027451  0.992157  0.996078   0.996078   \n",
       "\n",
       "        max  \n",
       "label  25.0  \n",
       "0.0     1.0  \n",
       "0.01    1.0  \n",
       "0.02    1.0  \n",
       "0.03    1.0  \n",
       "...     ...  \n",
       "7.79    1.0  \n",
       "7.8     1.0  \n",
       "7.81    1.0  \n",
       "7.82    1.0  \n",
       "7.83    1.0  \n",
       "\n",
       "[785 rows x 8 columns]"
      ]
     },
     "execution_count": 10,
     "metadata": {},
     "output_type": "execute_result"
    }
   ],
   "source": [
    "data.describe().transpose()"
   ]
  },
  {
   "cell_type": "code",
   "execution_count": 11,
   "metadata": {},
   "outputs": [],
   "source": [
    "(X_train, X_test, Y_train, Y_test) = train_test_split(X, y,test_size=0.2)"
   ]
  },
  {
   "cell_type": "code",
   "execution_count": 12,
   "metadata": {},
   "outputs": [
    {
     "data": {
      "text/plain": [
       "MinMaxScaler(copy=True, feature_range=(0, 1))"
      ]
     },
     "execution_count": 12,
     "metadata": {},
     "output_type": "execute_result"
    }
   ],
   "source": [
    "standard_scaler = MinMaxScaler()\n",
    "standard_scaler.fit(X_train)"
   ]
  },
  {
   "cell_type": "code",
   "execution_count": 13,
   "metadata": {},
   "outputs": [],
   "source": [
    "X_train = standard_scaler.transform(X_train)\n",
    "X_test = standard_scaler.transform(X_test)"
   ]
  },
  {
   "cell_type": "code",
   "execution_count": 14,
   "metadata": {},
   "outputs": [],
   "source": [
    "X_train = X_train.reshape((X_train.shape[0], 28, 28, 1)).astype('float32')\n",
    "X_test = X_test.reshape((X_test.shape[0], 28, 28, 1)).astype('float32')"
   ]
  },
  {
   "cell_type": "code",
   "execution_count": 15,
   "metadata": {},
   "outputs": [
    {
     "name": "stdout",
     "output_type": "stream",
     "text": [
      "(1760, 28, 28, 1)\n"
     ]
    }
   ],
   "source": [
    "print(X_train.shape)"
   ]
  },
  {
   "cell_type": "code",
   "execution_count": 16,
   "metadata": {},
   "outputs": [],
   "source": [
    "#label = data.iloc[:, 0].values\n",
    "#labels = sorted(list(set(label)))\n",
    "#labels"
   ]
  },
  {
   "cell_type": "code",
   "execution_count": 17,
   "metadata": {},
   "outputs": [],
   "source": [
    "#from sklearn.preprocessing import LabelEncoder"
   ]
  },
  {
   "cell_type": "code",
   "execution_count": 18,
   "metadata": {},
   "outputs": [],
   "source": [
    "#LE = LabelEncoder()\n",
    "#l= LE.fit_transform(labels)\n"
   ]
  },
  {
   "cell_type": "code",
   "execution_count": 19,
   "metadata": {},
   "outputs": [],
   "source": [
    "early_stop = EarlyStopping(monitor='val_loss',mode='min',verbose=1,patience=2)"
   ]
  },
  {
   "cell_type": "code",
   "execution_count": 20,
   "metadata": {},
   "outputs": [],
   "source": [
    "Y_train = np_utils.to_categorical(Y_train)\n",
    "Y_test = np_utils.to_categorical(Y_test)"
   ]
  },
  {
   "cell_type": "code",
   "execution_count": 21,
   "metadata": {},
   "outputs": [
    {
     "name": "stdout",
     "output_type": "stream",
     "text": [
      "(440, 26)\n"
     ]
    }
   ],
   "source": [
    "print(Y_test.shape)"
   ]
  },
  {
   "cell_type": "code",
   "execution_count": 22,
   "metadata": {},
   "outputs": [
    {
     "data": {
      "text/plain": [
       "26"
      ]
     },
     "execution_count": 22,
     "metadata": {},
     "output_type": "execute_result"
    }
   ],
   "source": [
    "num_classes = Y_test.shape[1]\n",
    "num_classes"
   ]
  },
  {
   "cell_type": "code",
   "execution_count": 23,
   "metadata": {},
   "outputs": [],
   "source": [
    "model = Sequential()"
   ]
  },
  {
   "cell_type": "code",
   "execution_count": 24,
   "metadata": {},
   "outputs": [],
   "source": [
    "model.add(Conv2D(64, (5, 5), input_shape=(28, 28, 1), activation='relu', data_format=\"channels_last\", padding=\"same\"))\n",
    "model.add(Conv2D(64, (5, 5), input_shape=(28, 28, 1), activation='relu', data_format=\"channels_last\", padding=\"same\"))\n",
    "model.add(MaxPooling2D(pool_size=(2, 2)))"
   ]
  },
  {
   "cell_type": "code",
   "execution_count": 25,
   "metadata": {},
   "outputs": [],
   "source": [
    "model.add(Conv2D(128, (3, 3), activation='relu', data_format=\"channels_last\", padding=\"same\"))\n",
    "model.add(Conv2D(128, (3, 3), activation='relu', data_format=\"channels_last\", padding=\"same\"))\n",
    "model.add(MaxPooling2D(pool_size=(2, 2)))"
   ]
  },
  {
   "cell_type": "code",
   "execution_count": 26,
   "metadata": {},
   "outputs": [],
   "source": [
    "model.add(Dropout(0.2))"
   ]
  },
  {
   "cell_type": "code",
   "execution_count": 27,
   "metadata": {},
   "outputs": [],
   "source": [
    "model.add(Flatten())\n",
    "model.add(Dense(128, activation='relu'))\n",
    "model.add(Dense(num_classes, activation='softmax'))"
   ]
  },
  {
   "cell_type": "code",
   "execution_count": 28,
   "metadata": {},
   "outputs": [
    {
     "name": "stdout",
     "output_type": "stream",
     "text": [
      "Train on 1760 samples, validate on 440 samples\n",
      "Epoch 1/20\n",
      "1760/1760 [==============================] - 10s 6ms/step - loss: 2.4458 - accuracy: 0.2449 - val_loss: 2.1629 - val_accuracy: 0.3273\n",
      "Epoch 2/20\n",
      "1760/1760 [==============================] - 12s 7ms/step - loss: 2.0703 - accuracy: 0.3028 - val_loss: 2.0506 - val_accuracy: 0.3682\n",
      "Epoch 3/20\n",
      "1760/1760 [==============================] - 12s 7ms/step - loss: 1.9933 - accuracy: 0.3392 - val_loss: 1.9724 - val_accuracy: 0.4545\n",
      "Epoch 4/20\n",
      "1760/1760 [==============================] - 12s 7ms/step - loss: 1.9278 - accuracy: 0.4631 - val_loss: 1.8736 - val_accuracy: 0.5182\n",
      "Epoch 5/20\n",
      "1760/1760 [==============================] - 12s 7ms/step - loss: 1.7211 - accuracy: 0.5119 - val_loss: 1.6140 - val_accuracy: 0.5409\n",
      "Epoch 6/20\n",
      "1760/1760 [==============================] - 12s 7ms/step - loss: 1.5116 - accuracy: 0.5642 - val_loss: 1.4524 - val_accuracy: 0.5682\n",
      "Epoch 7/20\n",
      "1760/1760 [==============================] - 11s 6ms/step - loss: 1.3342 - accuracy: 0.6187 - val_loss: 1.2372 - val_accuracy: 0.6455\n",
      "Epoch 8/20\n",
      "1760/1760 [==============================] - 11s 7ms/step - loss: 1.1635 - accuracy: 0.6608 - val_loss: 1.1625 - val_accuracy: 0.6682\n",
      "Epoch 9/20\n",
      "1760/1760 [==============================] - 13s 7ms/step - loss: 1.0108 - accuracy: 0.7028 - val_loss: 1.0653 - val_accuracy: 0.7136\n",
      "Epoch 10/20\n",
      "1760/1760 [==============================] - 14s 8ms/step - loss: 0.8646 - accuracy: 0.7381 - val_loss: 0.9328 - val_accuracy: 0.7227\n",
      "Epoch 11/20\n",
      "1760/1760 [==============================] - 14s 8ms/step - loss: 0.7099 - accuracy: 0.7767 - val_loss: 0.8256 - val_accuracy: 0.7477\n",
      "Epoch 12/20\n",
      "1760/1760 [==============================] - 16s 9ms/step - loss: 0.5367 - accuracy: 0.8256 - val_loss: 0.7783 - val_accuracy: 0.7864\n",
      "Epoch 13/20\n",
      "1760/1760 [==============================] - 14s 8ms/step - loss: 0.4200 - accuracy: 0.8659 - val_loss: 0.6530 - val_accuracy: 0.8091\n",
      "Epoch 14/20\n",
      "1760/1760 [==============================] - 12s 7ms/step - loss: 0.3257 - accuracy: 0.8989 - val_loss: 0.7328 - val_accuracy: 0.8000\n",
      "Epoch 15/20\n",
      "1760/1760 [==============================] - 14s 8ms/step - loss: 0.2842 - accuracy: 0.9108 - val_loss: 0.6683 - val_accuracy: 0.8227\n",
      "Epoch 00015: early stopping\n"
     ]
    },
    {
     "data": {
      "text/plain": [
       "<keras.callbacks.callbacks.History at 0x2e024836fd0>"
      ]
     },
     "execution_count": 28,
     "metadata": {},
     "output_type": "execute_result"
    }
   ],
   "source": [
    "\n",
    "model.compile(loss='categorical_crossentropy', optimizer='adam', metrics=['accuracy'])\n",
    "model.fit(X_train, Y_train, validation_data=(X_test, Y_test), epochs=20, batch_size=256, verbose=1,callbacks=[early_stop])"
   ]
  },
  {
   "cell_type": "code",
   "execution_count": 29,
   "metadata": {},
   "outputs": [
    {
     "name": "stdout",
     "output_type": "stream",
     "text": [
      "440/440 [==============================] - 1s 2ms/step\n",
      "CNN Error: 17.73%\n"
     ]
    }
   ],
   "source": [
    "scores = model.evaluate(X_test,Y_test, verbose=1)\n",
    "print(\"CNN Error: %.2f%%\" % (100-scores[1]*100))"
   ]
  },
  {
   "cell_type": "code",
   "execution_count": 30,
   "metadata": {},
   "outputs": [],
   "source": [
    "#model.save('weights.model')\n",
    "#model.save_weights(\"model_alpha.h5\")"
   ]
  },
  {
   "cell_type": "code",
   "execution_count": 31,
   "metadata": {},
   "outputs": [
    {
     "name": "stdout",
     "output_type": "stream",
     "text": [
      "Accuracy : 82.27272629737854\n"
     ]
    }
   ],
   "source": [
    "print(f\"Accuracy : {(scores[1]*100)}\")"
   ]
  },
  {
   "cell_type": "code",
   "execution_count": 32,
   "metadata": {},
   "outputs": [
    {
     "data": {
      "text/plain": [
       "<matplotlib.axes._subplots.AxesSubplot at 0x2e025640b38>"
      ]
     },
     "execution_count": 32,
     "metadata": {},
     "output_type": "execute_result"
    },
    {
     "data": {
      "image/png": "[encoded data removed]",
      "text/plain": [
       "<Figure size 432x288 with 1 Axes>"
      ]
     },
     "metadata": {
      "needs_background": "light"
     },
     "output_type": "display_data"
    }
   ],
   "source": [
    "model_loss = pd.DataFrame(model.history.history)\n",
    "model_loss.plot()"
   ]
  },
  {
   "cell_type": "code",
   "execution_count": 33,
   "metadata": {},
   "outputs": [
    {
     "data": {
      "text/plain": [
       "(440,)"
      ]
     },
     "execution_count": 33,
     "metadata": {},
     "output_type": "execute_result"
    }
   ],
   "source": [
    "predictions = model.predict_classes(X_test)\n",
    "predictions.shape"
   ]
  },
  {
   "cell_type": "code",
   "execution_count": 34,
   "metadata": {},
   "outputs": [],
   "source": [
    "image = cv.imread(\"Alphabets\\A\\ABox-107-70-21-24.jpg.jpg\")\n"
   ]
  },
  {
   "cell_type": "code",
   "execution_count": null,
   "metadata": {},
   "outputs": [],
   "source": [
    "\n"
   ]
  },
  {
   "cell_type": "code",
   "execution_count": null,
   "metadata": {},
   "outputs": [],
   "source": []
  },
  {
   "cell_type": "code",
   "execution_count": 35,
   "metadata": {},
   "outputs": [
    {
     "data": {
      "text/plain": [
       "array([[[252, 254, 254],\n",
       "        [252, 254, 254],\n",
       "        [254, 254, 254],\n",
       "        ...,\n",
       "        [251, 255, 255],\n",
       "        [251, 255, 255],\n",
       "        [251, 255, 255]],\n",
       "\n",
       "       [[252, 254, 254],\n",
       "        [252, 254, 254],\n",
       "        [254, 254, 254],\n",
       "        ...,\n",
       "        [251, 255, 255],\n",
       "        [251, 255, 255],\n",
       "        [251, 255, 255]],\n",
       "\n",
       "       [[252, 254, 254],\n",
       "        [252, 254, 254],\n",
       "        [254, 254, 254],\n",
       "        ...,\n",
       "        [251, 255, 255],\n",
       "        [251, 255, 255],\n",
       "        [251, 255, 255]],\n",
       "\n",
       "       ...,\n",
       "\n",
       "       [[ 95,   7,  20],\n",
       "        [ 97,   9,  22],\n",
       "        [ 93,   7,  19],\n",
       "        ...,\n",
       "        [254, 249, 248],\n",
       "        [253, 248, 249],\n",
       "        [253, 248, 249]],\n",
       "\n",
       "       [[ 93,   5,  19],\n",
       "        [ 96,   8,  22],\n",
       "        [ 90,   3,  17],\n",
       "        ...,\n",
       "        [254, 249, 248],\n",
       "        [253, 248, 249],\n",
       "        [253, 248, 249]],\n",
       "\n",
       "       [[ 92,   4,  18],\n",
       "        [ 97,   9,  23],\n",
       "        [ 93,   6,  20],\n",
       "        ...,\n",
       "        [254, 249, 248],\n",
       "        [253, 248, 249],\n",
       "        [253, 248, 249]]], dtype=uint8)"
      ]
     },
     "execution_count": 35,
     "metadata": {},
     "output_type": "execute_result"
    }
   ],
   "source": [
    "image"
   ]
  },
  {
   "cell_type": "code",
   "execution_count": 36,
   "metadata": {},
   "outputs": [],
   "source": [
    "model_json = model.to_json()\n",
    "with open(\"model_alpha.json\", \"w\") as json_file:\n",
    "    json_file.write(model_json)"
   ]
  },
  {
   "cell_type": "code",
   "execution_count": 37,
   "metadata": {},
   "outputs": [
    {
     "name": "stdout",
     "output_type": "stream",
     "text": [
      "Saved model to disk\n"
     ]
    }
   ],
   "source": [
    "model.save_weights(\"model_alpha.h5\")\n",
    "print(\"Saved model to disk\")"
   ]
  },
  {
   "cell_type": "code",
   "execution_count": 38,
   "metadata": {},
   "outputs": [],
   "source": [
    "from keras.preprocessing.image import load_img\n",
    "from keras.preprocessing.image import img_to_array\n",
    "from keras.models import load_model"
   ]
  },
  {
   "cell_type": "code",
   "execution_count": 39,
   "metadata": {},
   "outputs": [],
   "source": [
    "def load_image(filename):\n",
    "\t# load the image\n",
    "\timg = load_img(filename, grayscale=True, target_size=(28, 28))\n",
    "\t# convert to array\n",
    "\timg = img_to_array(img)\n",
    "\t# reshape into a single sample with 1 channel\n",
    "\timg = img.reshape(1, 28, 28, 1)\n",
    "\t# prepare pixel data\n",
    "\timg = img.astype('float32')\n",
    "\timg = img / 255.0\n",
    "\treturn img"
   ]
  },
  {
   "cell_type": "code",
   "execution_count": 45,
   "metadata": {},
   "outputs": [
    {
     "name": "stdout",
     "output_type": "stream",
     "text": [
      "<pandas.core.indexing._iLocIndexer object at 0x000002E021E600E8>\n"
     ]
    }
   ],
   "source": [
    "print(img)"
   ]
  },
  {
   "cell_type": "code",
   "execution_count": 61,
   "metadata": {},
   "outputs": [],
   "source": [
    "def run_example(img):\n",
    "\t# load the image\n",
    "\t#img = load_image('ABox-107-70-21-24.jpg.jpg')\n",
    "    #img\n",
    "\t# load model\n",
    "\t#model = load_model('model_alpha.h5')\n",
    "\t# predict the class\n",
    "\tdigit = model.predict_classes(img)\n",
    "\tprint(digit[0])"
   ]
  },
  {
   "cell_type": "code",
   "execution_count": 62,
   "metadata": {},
   "outputs": [],
   "source": [
    "#run_example()"
   ]
  },
  {
   "cell_type": "code",
   "execution_count": 63,
   "metadata": {},
   "outputs": [],
   "source": [
    "#model.summary()"
   ]
  },
  {
   "cell_type": "code",
   "execution_count": 80,
   "metadata": {},
   "outputs": [
    {
     "data": {
      "text/plain": [
       "array([[[249, 253, 254],\n",
       "        [249, 253, 254],\n",
       "        [251, 253, 254],\n",
       "        ...,\n",
       "        [254, 251, 253],\n",
       "        [255, 251, 253],\n",
       "        [255, 251, 253]],\n",
       "\n",
       "       [[249, 253, 254],\n",
       "        [249, 253, 254],\n",
       "        [251, 253, 254],\n",
       "        ...,\n",
       "        [254, 251, 253],\n",
       "        [255, 251, 253],\n",
       "        [255, 251, 253]],\n",
       "\n",
       "       [[251, 253, 254],\n",
       "        [251, 253, 254],\n",
       "        [251, 253, 254],\n",
       "        ...,\n",
       "        [254, 251, 253],\n",
       "        [255, 251, 253],\n",
       "        [255, 251, 253]],\n",
       "\n",
       "       ...,\n",
       "\n",
       "       [[252, 254, 254],\n",
       "        [252, 254, 254],\n",
       "        [252, 254, 254],\n",
       "        ...,\n",
       "        [253, 254, 252],\n",
       "        [253, 254, 252],\n",
       "        [253, 254, 252]],\n",
       "\n",
       "       [[252, 254, 254],\n",
       "        [252, 254, 254],\n",
       "        [252, 254, 254],\n",
       "        ...,\n",
       "        [253, 254, 252],\n",
       "        [253, 254, 252],\n",
       "        [253, 254, 252]],\n",
       "\n",
       "       [[252, 254, 254],\n",
       "        [252, 254, 254],\n",
       "        [252, 254, 254],\n",
       "        ...,\n",
       "        [253, 254, 252],\n",
       "        [253, 254, 252],\n",
       "        [253, 254, 252]]], dtype=uint8)"
      ]
     },
     "execution_count": 80,
     "metadata": {},
     "output_type": "execute_result"
    }
   ],
   "source": [
    "image = cv.imread('EBox-284-619-23-26.jpg.jpg')\n",
    "image"
   ]
  },
  {
   "cell_type": "code",
   "execution_count": 81,
   "metadata": {},
   "outputs": [
    {
     "data": {
      "text/plain": [
       "(26,)"
      ]
     },
     "execution_count": 81,
     "metadata": {},
     "output_type": "execute_result"
    }
   ],
   "source": [
    "Y_test[0].shape"
   ]
  },
  {
   "cell_type": "code",
   "execution_count": 82,
   "metadata": {},
   "outputs": [
    {
     "data": {
      "text/plain": [
       "array([0., 1., 0., 0., 0., 0., 0., 0., 0., 0., 0., 0., 0., 0., 0., 0., 0.,\n",
       "       0., 0., 0., 0., 0., 0., 0., 0., 0.], dtype=float32)"
      ]
     },
     "execution_count": 82,
     "metadata": {},
     "output_type": "execute_result"
    }
   ],
   "source": [
    "Y_test[0]"
   ]
  },
  {
   "cell_type": "code",
   "execution_count": 83,
   "metadata": {},
   "outputs": [
    {
     "data": {
      "text/plain": [
       "(28, 28, 1)"
      ]
     },
     "execution_count": 83,
     "metadata": {},
     "output_type": "execute_result"
    }
   ],
   "source": [
    "X_test[0].shape"
   ]
  },
  {
   "cell_type": "code",
   "execution_count": 84,
   "metadata": {},
   "outputs": [
    {
     "name": "stdout",
     "output_type": "stream",
     "text": [
      "(80, 80, 3)\n"
     ]
    },
    {
     "data": {
      "text/plain": [
       "(28, 28)"
      ]
     },
     "execution_count": 84,
     "metadata": {},
     "output_type": "execute_result"
    }
   ],
   "source": [
    "print(image.shape)\n",
    "grayimage = cv.cvtColor(image,cv.COLOR_BGR2GRAY)\n",
    "resizeimage = cv.resize(grayimage,(28,28))\n",
    "resizeimage.shape"
   ]
  },
  {
   "cell_type": "code",
   "execution_count": 85,
   "metadata": {},
   "outputs": [],
   "source": [
    "import matplotlib.pyplot as plt"
   ]
  },
  {
   "cell_type": "code",
   "execution_count": 86,
   "metadata": {},
   "outputs": [
    {
     "data": {
      "text/plain": [
       "<matplotlib.image.AxesImage at 0x2e0329b93c8>"
      ]
     },
     "execution_count": 86,
     "metadata": {},
     "output_type": "execute_result"
    },
    {
     "data": {
      "image/png": "[encoded data removed]",
      "text/plain": [
       "<Figure size 432x288 with 1 Axes>"
      ]
     },
     "metadata": {
      "needs_background": "light"
     },
     "output_type": "display_data"
    }
   ],
   "source": [
    "plt.imshow(resizeimage.reshape(28,28))"
   ]
  },
  {
   "cell_type": "code",
   "execution_count": 87,
   "metadata": {},
   "outputs": [],
   "source": [
    "imge = resizeimage.reshape(1, 28, 28, 1)"
   ]
  },
  {
   "cell_type": "code",
   "execution_count": 106,
   "metadata": {},
   "outputs": [
    {
     "name": "stdout",
     "output_type": "stream",
     "text": [
      "4\n"
     ]
    }
   ],
   "source": [
    "r = run_example(imge)"
   ]
  },
  {
   "cell_type": "code",
   "execution_count": 107,
   "metadata": {},
   "outputs": [],
   "source": [
    "\n",
    "#big_letters"
   ]
  },
  {
   "cell_type": "code",
   "execution_count": 108,
   "metadata": {},
   "outputs": [
    {
     "data": {
      "text/plain": [
       "{0: 'A',\n",
       " 1: 'B',\n",
       " 2: 'C',\n",
       " 3: 'D',\n",
       " 4: 'E',\n",
       " 5: 'F',\n",
       " 6: 'G',\n",
       " 7: 'H',\n",
       " 8: 'I',\n",
       " 9: 'J',\n",
       " 10: 'K',\n",
       " 11: 'L',\n",
       " 12: 'M',\n",
       " 13: 'N',\n",
       " 14: 'O',\n",
       " 15: 'P',\n",
       " 16: 'Q',\n",
       " 17: 'R',\n",
       " 18: 'S',\n",
       " 19: 'T',\n",
       " 20: 'U',\n",
       " 21: 'V',\n",
       " 22: 'W',\n",
       " 23: 'X',\n",
       " 24: 'Y',\n",
       " 25: 'Z'}"
      ]
     },
     "execution_count": 108,
     "metadata": {},
     "output_type": "execute_result"
    }
   ],
   "source": [
    "alphabets_mapper=dict()\n",
    "for i,e in enumerate(big_letters):\n",
    "    alphabets_mapper[i]=e\n",
    "alphabets_mapper"
   ]
  },
  {
   "cell_type": "code",
   "execution_count": 109,
   "metadata": {},
   "outputs": [
    {
     "ename": "KeyError",
     "evalue": "None",
     "output_type": "error",
     "traceback": [
      "\u001b[1;31m---------------------------------------------------------------------------\u001b[0m",
      "\u001b[1;31mKeyError\u001b[0m                                  Traceback (most recent call last)",
      "\u001b[1;32m<ipython-input-109-d76ab14cc334>\u001b[0m in \u001b[0;36m<module>\u001b[1;34m\u001b[0m\n\u001b[1;32m----> 1\u001b[1;33m \u001b[0mprint\u001b[0m\u001b[1;33m(\u001b[0m\u001b[1;34mf\"Predicted Chracter is {alphabets_mapper[r]}\"\u001b[0m\u001b[1;33m)\u001b[0m\u001b[1;33m\u001b[0m\u001b[1;33m\u001b[0m\u001b[0m\n\u001b[0m",
      "\u001b[1;31mKeyError\u001b[0m: None"
     ]
    }
   ],
   "source": [
    "print(f\"Predicted Chracter is {alphabets_mapper[r]}\")"
   ]
  },
  {
   "cell_type": "code",
   "execution_count": null,
   "metadata": {},
   "outputs": [],
   "source": []
  },
  {
   "cell_type": "code",
   "execution_count": null,
   "metadata": {},
   "outputs": [],
   "source": []
  }
 ],
 "metadata": {
  "kernelspec": {
   "display_name": "Python 3",
   "language": "python",
   "name": "python3"
  },
  "language_info": {
   "codemirror_mode": {
    "name": "ipython",
    "version": 3
   },
   "file_extension": ".py",
   "mimetype": "text/x-python",
   "name": "python",
   "nbconvert_exporter": "python",
   "pygments_lexer": "ipython3",
   "version": "3.6.10"
  }
 },
 "nbformat": 4,
 "nbformat_minor": 4
}
